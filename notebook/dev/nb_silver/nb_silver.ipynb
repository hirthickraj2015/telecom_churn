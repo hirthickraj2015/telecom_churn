{
 "cells": [
  {
   "cell_type": "code",
   "execution_count": null,
   "id": "5b32e16b",
   "metadata": {
    "vscode": {
     "languageId": "plaintext"
    }
   },
   "outputs": [],
   "source": [
    "import sklearn as sk\n",
    "import numpy as np\n",
    "import pandas as pd\n",
    "import matplotlib.pyplot as plt\n",
    "import seaborn as sns\n",
    "import torch as pt\n",
    "\n",
    "from pyspark.sql.functions import when, col, lit\n",
    "from pyspark.sql.types import IntegerType\n",
    "from pyspark.sql import SparkSession\n",
    "from pyspark.sql.functions import col, count, when, isnan\n",
    "from sklearn.model_selection import train_test_split\n",
    "from sklearn.linear_model import LogisticRegression\n",
    "from sklearn.metrics import confusion_matrix,accuracy_score,f1_score,classification_report\n",
    "from sklearn import linear_model\n",
    "from pyspark.ml import Pipeline\n",
    "from pyspark.ml.feature import StringIndexer, OneHotEncoder, VectorAssembler\n",
    "\n",
    "spark = SparkSession.builder \\\n",
    "    .appName(\"OHE Example\") \\\n",
    "    .getOrCreate()\n"
   ]
  },
  {
   "cell_type": "code",
   "execution_count": null,
   "id": "42453078",
   "metadata": {
    "vscode": {
     "languageId": "plaintext"
    }
   },
   "outputs": [],
   "source": [
    "df = spark.read.format(\"delta\").load(\"/Volumes/workspace/bronze/bronzevolume/data/\")\n",
    "df.printSchema()"
   ]
  },
  {
   "cell_type": "code",
   "execution_count": null,
   "id": "ea5e5e9c",
   "metadata": {
    "vscode": {
     "languageId": "plaintext"
    }
   },
   "outputs": [],
   "source": [
    "\n",
    "\n",
    "# Your categorical columns\n",
    "catog = [\n",
    "    \"multiplelines\",\"internetservice\",\"onlinesecurity\",\"onlinebackup\",\n",
    "    \"deviceprotection\",\"techsupport\",\"streamingtv\",\"streamingmovies\",\n",
    "    \"contract\",\"paymentmethod\"\n",
    "]\n",
    "\n",
    "# Filter existing columns\n",
    "existing_catog = [c for c in catog if c in df.columns]\n",
    "\n",
    "df_encoded = df\n",
    "for cat_col in existing_catog:\n",
    "    print(f\"Processing column: {cat_col}\")\n",
    "    \n",
    "    # Get unique values for this column\n",
    "    unique_vals = [row[0] for row in df.select(cat_col).distinct().collect() if row[0] is not None]\n",
    "    print(f\"Unique values in {cat_col}: {unique_vals}\")\n",
    "    \n",
    "    # Create dummy variables for each unique value\n",
    "    for val in unique_vals:\n",
    "        # Clean the value name for column naming\n",
    "        clean_val = str(val).replace(\" \", \"_\").replace(\"-\", \"_\").replace(\"(\", \"\").replace(\")\", \"\")\n",
    "        dummy_col = f\"{cat_col}_{clean_val}\"\n",
    "        \n",
    "        df_encoded = df_encoded.withColumn(\n",
    "            dummy_col,\n",
    "            when(col(cat_col) == val, 1).otherwise(0).cast(IntegerType())\n",
    "        )"
   ]
  },
  {
   "cell_type": "code",
   "execution_count": null,
   "id": "96c4f0de",
   "metadata": {
    "vscode": {
     "languageId": "plaintext"
    }
   },
   "outputs": [],
   "source": [
    "print(df_encoded.columns)\n",
    "display(df_encoded)"
   ]
  },
  {
   "cell_type": "code",
   "execution_count": null,
   "id": "294d00b0",
   "metadata": {
    "vscode": {
     "languageId": "plaintext"
    }
   },
   "outputs": [],
   "source": [
    "cols = [\"gender\",\"seniorcitizen\",\"partner\",\"dependents\",\"phoneservice\",\"paperlessbilling\"]\n",
    "\n",
    "renames = [\"is_female\",\"is_senior\",\"has_partner\",\"has_dependent\",\"is_phoneservice\",\"is_paperlessbilling\"]\n",
    "\n",
    "for i in range(len(cols)):\n",
    "    df_encoded = df_encoded.withColumnRenamed(cols[i],renames[i])\n",
    "\n"
   ]
  },
  {
   "cell_type": "code",
   "execution_count": null,
   "id": "03d5d753",
   "metadata": {
    "vscode": {
     "languageId": "plaintext"
    }
   },
   "outputs": [],
   "source": [
    "lis = [\"is_paperlessbilling\",\"has_partner\",\"has_dependent\",\"is_phoneservice\",\"churn\"]\n",
    "for cl in lis:\n",
    "    df_encoded = df_encoded.withColumn(\n",
    "        f\"{cl}\",\n",
    "        when(col(f\"{cl}\") == \"Yes\", \"1\")\n",
    "        .when(col(f\"{cl}\") == \"No\", \"0\")\n",
    "        .otherwise(None)\n",
    "    )\n",
    "\n",
    "df_encoded = df_encoded.withColumn(\n",
    "    \"is_female\",\n",
    "    when(col(\"is_female\") == \"Female\", \"1\")\n",
    "    .when(col(\"is_female\") == \"Male\", \"0\")\n",
    "    .otherwise(None)\n",
    ")\n"
   ]
  },
  {
   "cell_type": "code",
   "execution_count": null,
   "id": "c93e0054",
   "metadata": {
    "vscode": {
     "languageId": "plaintext"
    }
   },
   "outputs": [],
   "source": [
    "display(df_encoded.columns)"
   ]
  },
  {
   "cell_type": "code",
   "execution_count": null,
   "id": "92522723",
   "metadata": {
    "vscode": {
     "languageId": "plaintext"
    }
   },
   "outputs": [],
   "source": [
    "subset=[ 'is_female', 'is_senior', 'has_partner', 'has_dependent', 'tenure', 'is_phoneservice', 'is_paperlessbilling',  'churn',  'multiplelines_No_phone_service', 'multiplelines_Yes', 'multiplelines_No', 'internetservice_DSL', 'internetservice_No', 'internetservice_Fiber_optic', 'onlinesecurity_No_internet_service', 'onlinesecurity_Yes', 'onlinesecurity_No', 'onlinebackup_No_internet_service', 'onlinebackup_Yes', 'onlinebackup_No', 'deviceprotection_No_internet_service', 'deviceprotection_Yes', 'deviceprotection_No', 'techsupport_No_internet_service', 'techsupport_Yes', 'techsupport_No', 'streamingtv_No_internet_service', 'streamingtv_Yes', 'streamingtv_No', 'streamingmovies_No_internet_service', 'streamingmovies_Yes', 'streamingmovies_No', 'contract_One_year', 'contract_Month_to_month', 'contract_Two_year', 'paymentmethod_Electronic_check', 'paymentmethod_Mailed_check', 'paymentmethod_Credit_card_automatic', 'paymentmethod_Bank_transfer_automatic',\"monthlycharges\",\"totalcharges\"]\n",
    "\n",
    "\n",
    "subset2=[ 'is_female', 'is_senior', 'has_partner', 'has_dependent', 'tenure', 'is_phoneservice', 'is_paperlessbilling',  'churn',  'multiplelines_No_phone_service', 'multiplelines_Yes', 'multiplelines_No', 'internetservice_DSL', 'internetservice_No', 'internetservice_Fiber_optic', 'onlinesecurity_No_internet_service', 'onlinesecurity_Yes', 'onlinesecurity_No', 'onlinebackup_No_internet_service', 'onlinebackup_Yes', 'onlinebackup_No', 'deviceprotection_No_internet_service', 'deviceprotection_Yes', 'deviceprotection_No', 'techsupport_No_internet_service', 'techsupport_Yes', 'techsupport_No', 'streamingtv_No_internet_service', 'streamingtv_Yes', 'streamingtv_No', 'streamingmovies_No_internet_service', 'streamingmovies_Yes', 'streamingmovies_No', 'contract_One_year', 'contract_Month_to_month', 'contract_Two_year', 'paymentmethod_Electronic_check', 'paymentmethod_Mailed_check', 'paymentmethod_Credit_card_automatic', 'paymentmethod_Bank_transfer_automatic']\n",
    "\n",
    "df_encoded = df_encoded.select(subset)\n",
    "for c in subset2:\n",
    "    df_encoded = df_encoded.withColumn(c, col(c).cast(\"int\"))\n",
    "\n",
    "display(df_encoded)"
   ]
  },
  {
   "cell_type": "code",
   "execution_count": null,
   "id": "9f64dc48",
   "metadata": {
    "vscode": {
     "languageId": "plaintext"
    }
   },
   "outputs": [],
   "source": [
    "df_encoded =df_encoded.select([col(c).alias(c.lower()) for c in df_encoded.columns])\n",
    "display(df_encoded)"
   ]
  },
  {
   "cell_type": "code",
   "execution_count": null,
   "id": "2bdea9cd",
   "metadata": {
    "vscode": {
     "languageId": "plaintext"
    }
   },
   "outputs": [],
   "source": [
    "lst2 = [\"monthlycharges\",\"totalcharges\"]\n",
    "\n",
    "\n",
    "for c in lst2:\n",
    "    df_encoded = df_encoded.withColumn(\n",
    "        c,\n",
    "        when(col(c) == ' ', None).otherwise(col(c)).cast(\"double\")\n",
    "    )"
   ]
  },
  {
   "cell_type": "code",
   "execution_count": null,
   "id": "b4fa4322",
   "metadata": {
    "vscode": {
     "languageId": "plaintext"
    }
   },
   "outputs": [],
   "source": [
    "lst = [\"customerid\",\"_rescued_data\"]\n",
    "df_encoded = df_encoded.drop(*lst)"
   ]
  },
  {
   "cell_type": "code",
   "execution_count": null,
   "id": "7c073cf1",
   "metadata": {
    "vscode": {
     "languageId": "plaintext"
    }
   },
   "outputs": [],
   "source": [
    "# Convert Spark DataFrame -> Pandas\n",
    "df_encoded =df_encoded.fillna(0)\n",
    "pdf = df_encoded.toPandas()"
   ]
  },
  {
   "cell_type": "code",
   "execution_count": null,
   "id": "d27ecc84",
   "metadata": {
    "vscode": {
     "languageId": "plaintext"
    }
   },
   "outputs": [],
   "source": [
    "# Define features and target\n",
    "X = pdf.drop(\"churn\", axis=1)\n",
    "y = pdf[\"churn\"]\n",
    "\n",
    "# Train-test split\n",
    "X_train, X_test, y_train, y_test = train_test_split(X, y, test_size=0.2, random_state=42)\n",
    "\n",
    "\n",
    "# Train Logistic Regression\n",
    "regr = LogisticRegression(max_iter=2500)  # max_iter is often needed for convergence\n",
    "\n",
    "regr.fit(X_train, y_train)\n",
    "\n",
    "# Predictions\n",
    "y_pred = regr.predict(X_test)\n"
   ]
  },
  {
   "cell_type": "code",
   "execution_count": null,
   "id": "b09c62ca",
   "metadata": {
    "vscode": {
     "languageId": "plaintext"
    }
   },
   "outputs": [],
   "source": [
    "feat_importances = pd.Series(regr.coef_[0],index=X.columns)\n",
    "plt.figure(figsize=(10, 12))  # (width, height) in inches\n",
    "feat_importances.nlargest(40).plot(kind='barh')\n",
    "plt.show()"
   ]
  },
  {
   "cell_type": "code",
   "execution_count": null,
   "id": "ed911f1f",
   "metadata": {
    "vscode": {
     "languageId": "plaintext"
    }
   },
   "outputs": [],
   "source": [
    "tn,fp,fn,tp = confusion_matrix(y_test,y_pred).ravel()\n",
    "print(f\"TN: {tn}, FP: {fp} \\nFN: {fn}, TP: {tp}\")"
   ]
  },
  {
   "cell_type": "code",
   "execution_count": null,
   "id": "1510ce84",
   "metadata": {
    "vscode": {
     "languageId": "plaintext"
    }
   },
   "outputs": [],
   "source": [
    "accuracy = accuracy_score(y_test, y_pred)\n",
    "print(f\"Accuracy: {accuracy}\")\n",
    "\n",
    "f1 = f1_score(y_test,y_pred)\n",
    "print(f\"F1 Score: {f1}\")\n",
    "\n",
    "print(classification_report(y_test,y_pred))"
   ]
  }
 ],
 "metadata": {
  "language_info": {
   "name": "python"
  }
 },
 "nbformat": 4,
 "nbformat_minor": 5
}
