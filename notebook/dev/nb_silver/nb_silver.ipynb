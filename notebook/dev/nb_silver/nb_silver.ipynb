{
 "cells": [
  {
   "cell_type": "code",
   "execution_count": 0,
   "metadata": {
    "application/vnd.databricks.v1+cell": {
     "cellMetadata": {
      "byteLimit": 2048000,
      "rowLimit": 10000
     },
     "inputWidgets": {},
     "nuid": "94b78576-7fa8-4964-abd6-3a019b1048cf",
     "showTitle": false,
     "tableResultSettingsMap": {},
     "title": ""
    },
    "vscode": {
     "languageId": "plaintext"
    }
   },
   "outputs": [],
   "source": [
    "\n",
    "import sklearn as sk\n",
    "import numpy as np\n",
    "import pandas as pd\n",
    "import matplotlib.pyplot as plt\n",
    "import seaborn as sns\n",
    "import torch as pt\n",
    "import missingno as msno\n",
    "import plotly.express as px\n",
    "import plotly.graph_objects as go\n",
    "from plotly.subplots import make_subplots\n",
    "\n",
    "from pyspark.sql.functions import when, col, lit\n",
    "from pyspark.sql.types import IntegerType\n",
    "from pyspark.sql import SparkSession\n",
    "from pyspark.sql.functions import col, count, when, isnan\n",
    "from sklearn.preprocessing import StandardScaler\n",
    "from sklearn.preprocessing import LabelEncoder\n",
    "\n",
    "from sklearn.tree import DecisionTreeClassifier\n",
    "from sklearn.ensemble import RandomForestClassifier\n",
    "from sklearn.naive_bayes import GaussianNB\n",
    "from sklearn.neighbors import KNeighborsClassifier\n",
    "from sklearn.svm import SVC\n",
    "from sklearn.neural_network import MLPClassifier\n",
    "from sklearn.ensemble import AdaBoostClassifier\n",
    "from sklearn.ensemble import GradientBoostingClassifier\n",
    "from sklearn.ensemble import ExtraTreesClassifier\n",
    "from sklearn.linear_model import LogisticRegression\n",
    "from sklearn.model_selection import train_test_split\n",
    "from sklearn.metrics import accuracy_score\n",
    "from xgboost import XGBClassifier\n",
    "from catboost import CatBoostClassifier\n",
    "from sklearn import metrics\n",
    "from sklearn.metrics import roc_curve\n",
    "from sklearn.metrics import recall_score, confusion_matrix, precision_score, f1_score, accuracy_score, classification_report\n",
    "\n",
    "spark = SparkSession.builder \\\n",
    "    .appName(\"OHE Example\") \\\n",
    "    .getOrCreate()\n"
   ]
  },
  {
   "cell_type": "code",
   "execution_count": 0,
   "metadata": {
    "application/vnd.databricks.v1+cell": {
     "cellMetadata": {
      "byteLimit": 2048000,
      "rowLimit": 10000
     },
     "inputWidgets": {},
     "nuid": "a7eeabbe-581b-4578-9939-e65d1e25af83",
     "showTitle": false,
     "tableResultSettingsMap": {},
     "title": ""
    },
    "vscode": {
     "languageId": "plaintext"
    }
   },
   "outputs": [],
   "source": [
    "DATA_PATH = \"/Volumes/workspace/bronze/bronzevolume/data/\" # set via env or Path for prod\n",
    "try:\n",
    "    df = spark.read.format(\"delta\").load(DATA_PATH)\n",
    "except Exception as e:\n",
    "    raise RuntimeError(f\"Failed loading delta at {DATA_PATH}: {e}\")\n",
    "\n",
    "\n",
    "print('Rows:', df.count())\n",
    "df.printSchema()\n",
    "# quick top rows\n",
    "display(df.limit(5))"
   ]
  },
  {
   "cell_type": "code",
   "execution_count": 0,
   "metadata": {
    "application/vnd.databricks.v1+cell": {
     "cellMetadata": {
      "byteLimit": 2048000,
      "rowLimit": 10000
     },
     "inputWidgets": {},
     "nuid": "091f02f7-f8f5-4763-ae97-a210b87364c1",
     "showTitle": false,
     "tableResultSettingsMap": {},
     "title": ""
    },
    "vscode": {
     "languageId": "plaintext"
    }
   },
   "outputs": [],
   "source": [
    "# Your categorical columns\n",
    "catog = [\n",
    "    \"multiplelines\",\"internetservice\",\"onlinesecurity\",\"onlinebackup\",\n",
    "    \"deviceprotection\",\"techsupport\",\"streamingtv\",\"streamingmovies\",\n",
    "    \"contract\",\"paymentmethod\"\n",
    "]\n",
    "\n",
    "# Filter existing columns\n",
    "df_cols_lower = {c.lower(): c for c in df.columns}\n",
    "existing_catog = [df_cols_lower[c] for c in catog if c in df_cols_lower]\n",
    "\n",
    "\n",
    "df_encoded = df\n",
    "for cat_col in existing_catog:\n",
    "    print(f\"Processing column: {cat_col}\")\n",
    "    \n",
    "    # Get unique values for this column\n",
    "    unique_vals = [row[0] for row in df.select(cat_col).distinct().collect() if row[0] is not None]\n",
    "    print(f\"Unique values in {cat_col}: {unique_vals}\")\n",
    "    \n",
    "    # Create dummy variables for each unique value\n",
    "    for val in unique_vals:\n",
    "        # Clean the value name for column naming\n",
    "        clean_val = str(val).replace(\" \", \"_\").replace(\"-\", \"_\").replace(\"(\", \"\").replace(\")\", \"\")\n",
    "        dummy_col = f\"{cat_col}_{clean_val}\"\n",
    "        \n",
    "        df_encoded = df_encoded.withColumn(\n",
    "            dummy_col,\n",
    "            when(col(cat_col) == val, 1).otherwise(0).cast(IntegerType())\n",
    "        )\n",
    "     "
   ]
  },
  {
   "cell_type": "code",
   "execution_count": 0,
   "metadata": {
    "application/vnd.databricks.v1+cell": {
     "cellMetadata": {
      "byteLimit": 2048000,
      "rowLimit": 10000
     },
     "inputWidgets": {},
     "nuid": "91f91f03-7f3e-4f13-bfcf-b514bf7c10c3",
     "showTitle": false,
     "tableResultSettingsMap": {
      "0": {
       "dataGridStateBlob": "{\"version\":1,\"tableState\":{\"columnPinning\":{\"left\":[\"#row_number#\"],\"right\":[]},\"columnSizing\":{},\"columnVisibility\":{}},\"settings\":{\"columns\":{}},\"syncTimestamp\":1757540458673}",
       "filterBlob": null,
       "queryPlanFiltersBlob": null,
       "tableResultIndex": 0
      }
     },
     "title": ""
    },
    "vscode": {
     "languageId": "plaintext"
    }
   },
   "outputs": [],
   "source": [
    "display(df_encoded)"
   ]
  },
  {
   "cell_type": "code",
   "execution_count": 0,
   "metadata": {
    "application/vnd.databricks.v1+cell": {
     "cellMetadata": {
      "byteLimit": 2048000,
      "rowLimit": 10000
     },
     "inputWidgets": {},
     "nuid": "100852e9-8162-4bcd-88e6-f18ead3b465c",
     "showTitle": false,
     "tableResultSettingsMap": {},
     "title": ""
    }
   },
   "outputs": [],
   "source": [
    "df_encoded =df_encoded.select([col(c).alias(c.lower()) for c in df_encoded.columns])\n"
   ]
  },
  {
   "cell_type": "code",
   "execution_count": 0,
   "metadata": {
    "application/vnd.databricks.v1+cell": {
     "cellMetadata": {
      "byteLimit": 2048000,
      "rowLimit": 10000
     },
     "inputWidgets": {},
     "nuid": "e13d6785-7c6d-4066-a839-8f5860475f75",
     "showTitle": false,
     "tableResultSettingsMap": {},
     "title": ""
    },
    "vscode": {
     "languageId": "plaintext"
    }
   },
   "outputs": [],
   "source": [
    "cols = [\"gender\",\"seniorcitizen\",\"partner\",\"dependents\",\"phoneservice\",\"paperlessbilling\"]\n",
    "\n",
    "renames = [\"is_female\",\"is_senior\",\"has_partner\",\"has_dependent\",\"is_phoneservice\",\"is_paperlessbilling\"]\n",
    "\n",
    "for i in range(len(cols)):\n",
    "    df_encoded = df_encoded.withColumnRenamed(cols[i],renames[i])\n"
   ]
  },
  {
   "cell_type": "code",
   "execution_count": 0,
   "metadata": {
    "application/vnd.databricks.v1+cell": {
     "cellMetadata": {
      "byteLimit": 2048000,
      "rowLimit": 10000
     },
     "inputWidgets": {},
     "nuid": "f8fe644c-1c5d-401f-93ee-1fe523ff5062",
     "showTitle": false,
     "tableResultSettingsMap": {
      "0": {
       "dataGridStateBlob": "{\"version\":1,\"tableState\":{\"columnPinning\":{\"left\":[\"#row_number#\"],\"right\":[]},\"columnSizing\":{},\"columnVisibility\":{}},\"settings\":{\"columns\":{}},\"syncTimestamp\":1757597482321}",
       "filterBlob": null,
       "queryPlanFiltersBlob": null,
       "tableResultIndex": 0
      }
     },
     "title": ""
    }
   },
   "outputs": [],
   "source": [
    "display(df_encoded)"
   ]
  },
  {
   "cell_type": "code",
   "execution_count": 0,
   "metadata": {
    "application/vnd.databricks.v1+cell": {
     "cellMetadata": {
      "byteLimit": 2048000,
      "rowLimit": 10000
     },
     "inputWidgets": {},
     "nuid": "c840b9b1-65fd-4526-83ae-c0e063de005f",
     "showTitle": false,
     "tableResultSettingsMap": {},
     "title": ""
    },
    "vscode": {
     "languageId": "plaintext"
    }
   },
   "outputs": [],
   "source": [
    "\n",
    "\n",
    "lis = [\"is_paperlessbilling\",\"has_partner\",\"has_dependent\",\"is_phoneservice\",\"churn\"]\n",
    "for cl in lis:\n",
    "    df_encoded = df_encoded.withColumn(\n",
    "        f\"{cl}\",\n",
    "        when(col(f\"{cl}\") == \"Yes\", \"1\")\n",
    "        .when(col(f\"{cl}\") == \"No\", \"0\")\n",
    "        .otherwise(None)\n",
    "    )\n",
    "\n",
    "df_encoded = df_encoded.withColumn(\n",
    "    \"is_female\",\n",
    "    when(col(\"is_female\") == \"Female\", \"1\")\n",
    "    .when(col(\"is_female\") == \"Male\", \"0\")\n",
    "    .otherwise(None)\n",
    ")\n"
   ]
  },
  {
   "cell_type": "code",
   "execution_count": 0,
   "metadata": {
    "application/vnd.databricks.v1+cell": {
     "cellMetadata": {
      "byteLimit": 2048000,
      "rowLimit": 10000
     },
     "inputWidgets": {},
     "nuid": "bc4a8e32-6467-446b-a82a-3bc590292561",
     "showTitle": false,
     "tableResultSettingsMap": {},
     "title": ""
    },
    "vscode": {
     "languageId": "plaintext"
    }
   },
   "outputs": [],
   "source": [
    "display(df_encoded.columns)"
   ]
  },
  {
   "cell_type": "code",
   "execution_count": 0,
   "metadata": {
    "application/vnd.databricks.v1+cell": {
     "cellMetadata": {
      "byteLimit": 2048000,
      "rowLimit": 10000
     },
     "inputWidgets": {},
     "nuid": "961fba1f-ccea-4de5-979b-76d25870b581",
     "showTitle": false,
     "tableResultSettingsMap": {},
     "title": ""
    }
   },
   "outputs": [],
   "source": [
    "display(df_encoded.columns)"
   ]
  },
  {
   "cell_type": "code",
   "execution_count": 0,
   "metadata": {
    "application/vnd.databricks.v1+cell": {
     "cellMetadata": {
      "byteLimit": 2048000,
      "rowLimit": 10000
     },
     "inputWidgets": {},
     "nuid": "10f62278-9814-4b1e-ab05-bf25c14db01f",
     "showTitle": false,
     "tableResultSettingsMap": {},
     "title": ""
    },
    "vscode": {
     "languageId": "plaintext"
    }
   },
   "outputs": [],
   "source": [
    "subset=[ 'is_female', 'is_senior', 'has_partner', 'has_dependent', 'tenure', 'is_phoneservice', 'is_paperlessbilling',  'churn',  'multiplelines_No_phone_service', 'multiplelines_Yes', 'multiplelines_No', 'internetservice_DSL', 'internetservice_No', 'internetservice_Fiber_optic', 'onlinesecurity_No_internet_service', 'onlinesecurity_Yes', 'onlinesecurity_No', 'onlinebackup_No_internet_service', 'onlinebackup_Yes', 'onlinebackup_No', 'deviceprotection_No_internet_service', 'deviceprotection_Yes', 'deviceprotection_No', 'techsupport_No_internet_service', 'techsupport_Yes', 'techsupport_No', 'streamingtv_No_internet_service', 'streamingtv_Yes', 'streamingtv_No', 'streamingmovies_No_internet_service', 'streamingmovies_Yes', 'streamingmovies_No', 'contract_One_year', 'contract_Month_to_month', 'contract_Two_year', 'paymentmethod_Electronic_check', 'paymentmethod_Mailed_check', 'paymentmethod_Credit_card_automatic', 'paymentmethod_Bank_transfer_automatic',\"monthlycharges\",\"totalcharges\"]\n",
    "\n",
    "\n",
    "subset2=[ 'is_female', 'is_senior', 'has_partner', 'has_dependent', 'tenure', 'is_phoneservice', 'is_paperlessbilling',  'churn',  'multiplelines_No_phone_service', 'multiplelines_Yes', 'multiplelines_No', 'internetservice_DSL', 'internetservice_No', 'internetservice_Fiber_optic', 'onlinesecurity_No_internet_service', 'onlinesecurity_Yes', 'onlinesecurity_No', 'onlinebackup_No_internet_service', 'onlinebackup_Yes', 'onlinebackup_No', 'deviceprotection_No_internet_service', 'deviceprotection_Yes', 'deviceprotection_No', 'techsupport_No_internet_service', 'techsupport_Yes', 'techsupport_No', 'streamingtv_No_internet_service', 'streamingtv_Yes', 'streamingtv_No', 'streamingmovies_No_internet_service', 'streamingmovies_Yes', 'streamingmovies_No', 'contract_One_year', 'contract_Month_to_month', 'contract_Two_year', 'paymentmethod_Electronic_check', 'paymentmethod_Mailed_check', 'paymentmethod_Credit_card_automatic', 'paymentmethod_Bank_transfer_automatic']\n",
    "\n",
    "df_encoded = df_encoded.select(subset)\n",
    "for c in subset2:\n",
    "    df_encoded = df_encoded.withColumn(c, col(c).cast(\"int\"))\n",
    "\n",
    "display(df_encoded)\n",
    "     "
   ]
  },
  {
   "cell_type": "code",
   "execution_count": 0,
   "metadata": {
    "application/vnd.databricks.v1+cell": {
     "cellMetadata": {
      "byteLimit": 2048000,
      "rowLimit": 10000
     },
     "inputWidgets": {},
     "nuid": "b2ce4341-49f4-434b-9ea3-49c5fef6dde6",
     "showTitle": false,
     "tableResultSettingsMap": {},
     "title": ""
    },
    "vscode": {
     "languageId": "plaintext"
    }
   },
   "outputs": [],
   "source": [
    "df_encoded =df_encoded.select([col(c).alias(c.lower()) for c in df_encoded.columns])\n"
   ]
  },
  {
   "cell_type": "code",
   "execution_count": 0,
   "metadata": {
    "application/vnd.databricks.v1+cell": {
     "cellMetadata": {
      "byteLimit": 2048000,
      "rowLimit": 10000
     },
     "inputWidgets": {},
     "nuid": "56af8a3a-4b3f-4be9-8a15-8340b5af9270",
     "showTitle": false,
     "tableResultSettingsMap": {},
     "title": ""
    }
   },
   "outputs": [],
   "source": [
    "display(df_encoded.filter(df_encoded['totalcharges'] == \" \"))"
   ]
  },
  {
   "cell_type": "code",
   "execution_count": 0,
   "metadata": {
    "application/vnd.databricks.v1+cell": {
     "cellMetadata": {
      "byteLimit": 2048000,
      "rowLimit": 10000
     },
     "inputWidgets": {},
     "nuid": "1f69c3fa-8d0b-44d1-916c-0ae64919c326",
     "showTitle": false,
     "tableResultSettingsMap": {},
     "title": ""
    },
    "vscode": {
     "languageId": "plaintext"
    }
   },
   "outputs": [],
   "source": [
    "lst2 = [\"monthlycharges\",\"totalcharges\"]\n",
    "\n",
    "\n",
    "for c in lst2:\n",
    "    df_encoded = df_encoded.withColumn(\n",
    "        c,\n",
    "        when(col(c) == ' ', None).otherwise(col(c)).cast(\"double\")\n",
    "    )"
   ]
  },
  {
   "cell_type": "code",
   "execution_count": 0,
   "metadata": {
    "application/vnd.databricks.v1+cell": {
     "cellMetadata": {
      "byteLimit": 2048000,
      "rowLimit": 10000
     },
     "inputWidgets": {},
     "nuid": "a1533b24-6806-47d2-a5b2-349c757bd670",
     "showTitle": false,
     "tableResultSettingsMap": {},
     "title": ""
    }
   },
   "outputs": [],
   "source": [
    "\n",
    "from pyspark.sql.functions import when, col\n",
    "\n",
    "df_encoded = df_encoded.withColumn(\n",
    "    \"monthlychargesbucketed\",\n",
    "    when(col(\"MonthlyCharges\") < 10, 1)\n",
    "    .when((col(\"MonthlyCharges\") >= 10) & (col(\"MonthlyCharges\") < 20), 2)\n",
    "    .when((col(\"MonthlyCharges\") >= 20) & (col(\"MonthlyCharges\") < 30), 3)\n",
    "    .when((col(\"MonthlyCharges\") >= 30) & (col(\"MonthlyCharges\") < 40), 4)\n",
    "    .when((col(\"MonthlyCharges\") >= 40) & (col(\"MonthlyCharges\") < 50), 5)\n",
    "    .when((col(\"MonthlyCharges\") >= 50) & (col(\"MonthlyCharges\") < 60), 6)\n",
    "    .when((col(\"MonthlyCharges\") >= 60) & (col(\"MonthlyCharges\") < 70), 7)\n",
    "    .when((col(\"MonthlyCharges\") >= 70) & (col(\"MonthlyCharges\") < 80), 8)\n",
    "    .when((col(\"MonthlyCharges\") >= 80) & (col(\"MonthlyCharges\") < 90), 9)\n",
    "    .when((col(\"MonthlyCharges\") >= 90) & (col(\"MonthlyCharges\") < 100), 10)\n",
    "    .when((col(\"MonthlyCharges\") >= 100) & (col(\"MonthlyCharges\") < 110), 11)\n",
    "    .otherwise(12)\n",
    ")\n"
   ]
  },
  {
   "cell_type": "code",
   "execution_count": 0,
   "metadata": {
    "application/vnd.databricks.v1+cell": {
     "cellMetadata": {
      "byteLimit": 2048000,
      "rowLimit": 10000
     },
     "inputWidgets": {},
     "nuid": "c02e1f84-d03b-4f41-b05e-eb55ebb49129",
     "showTitle": false,
     "tableResultSettingsMap": {},
     "title": ""
    }
   },
   "outputs": [],
   "source": [
    "df_encoded = df_encoded.withColumn(\n",
    "    \"totalchargesbucketed\",\n",
    "    when(col(\"TotalCharges\") < 100, 1)\n",
    "    .when((col(\"TotalCharges\") >= 100) & (col(\"TotalCharges\") < 300), 2)\n",
    "    .when((col(\"TotalCharges\") >= 300) & (col(\"TotalCharges\") < 500), 3)\n",
    "    .when((col(\"TotalCharges\") >= 500) & (col(\"TotalCharges\") < 1000), 4)\n",
    "    .when((col(\"TotalCharges\") >= 1000) & (col(\"TotalCharges\") < 1500), 5)\n",
    "    .when((col(\"TotalCharges\") >= 1500) & (col(\"TotalCharges\") < 2000), 6)\n",
    "    .when((col(\"TotalCharges\") >= 2000) & (col(\"TotalCharges\") < 2500), 7)\n",
    "    .when((col(\"TotalCharges\") >= 2500) & (col(\"TotalCharges\") < 3000), 8)\n",
    "    .when((col(\"TotalCharges\") >= 3000) & (col(\"TotalCharges\") < 3500), 9)\n",
    "    .when((col(\"TotalCharges\") >= 3500) & (col(\"TotalCharges\") < 4000), 10)\n",
    "    .when((col(\"TotalCharges\") >= 4000) & (col(\"TotalCharges\") < 4500), 11)\n",
    "    .when((col(\"TotalCharges\") >= 4500) & (col(\"TotalCharges\") < 5000), 12)\n",
    "    .when((col(\"TotalCharges\") >= 5000) & (col(\"TotalCharges\") < 5500), 13)\n",
    "    .when((col(\"TotalCharges\") >= 5500) & (col(\"TotalCharges\") < 6000), 14)\n",
    "    .when((col(\"TotalCharges\") >= 6000) & (col(\"TotalCharges\") < 6500), 15)\n",
    "    .when((col(\"TotalCharges\") >= 6500) & (col(\"TotalCharges\") < 7000), 16)\n",
    "    .when((col(\"TotalCharges\") >= 7000) & (col(\"TotalCharges\") < 7500), 17)\n",
    "    .when((col(\"TotalCharges\") >= 7500) & (col(\"TotalCharges\") < 8000), 18)\n",
    "    .when((col(\"TotalCharges\") >= 8000) & (col(\"TotalCharges\") < 8500), 19)\n",
    "    .otherwise(20)   \n",
    ")"
   ]
  },
  {
   "cell_type": "code",
   "execution_count": 0,
   "metadata": {
    "application/vnd.databricks.v1+cell": {
     "cellMetadata": {
      "byteLimit": 2048000,
      "rowLimit": 10000
     },
     "inputWidgets": {},
     "nuid": "80515466-ca9e-4302-90bc-c860010176d2",
     "showTitle": false,
     "tableResultSettingsMap": {},
     "title": ""
    },
    "vscode": {
     "languageId": "plaintext"
    }
   },
   "outputs": [],
   "source": [
    "lst = [\"customerid\",\"_rescued_data\"]\n",
    "df_encoded = df_encoded.drop(*lst)"
   ]
  },
  {
   "cell_type": "code",
   "execution_count": 0,
   "metadata": {
    "application/vnd.databricks.v1+cell": {
     "cellMetadata": {
      "byteLimit": 2048000,
      "rowLimit": 10000
     },
     "inputWidgets": {},
     "nuid": "9a6d46b8-a6a8-4ae1-a7f5-4f82ac98d8f1",
     "showTitle": false,
     "tableResultSettingsMap": {
      "0": {
       "dataGridStateBlob": "{\"version\":1,\"tableState\":{\"columnPinning\":{\"left\":[\"#row_number#\"],\"right\":[]},\"columnSizing\":{},\"columnVisibility\":{}},\"settings\":{\"columns\":{}},\"syncTimestamp\":1757596742259}",
       "filterBlob": null,
       "queryPlanFiltersBlob": null,
       "tableResultIndex": 0
      }
     },
     "title": ""
    }
   },
   "outputs": [],
   "source": [
    "display(df_encoded)"
   ]
  },
  {
   "cell_type": "code",
   "execution_count": 0,
   "metadata": {
    "application/vnd.databricks.v1+cell": {
     "cellMetadata": {
      "byteLimit": 2048000,
      "rowLimit": 10000
     },
     "inputWidgets": {},
     "nuid": "60914e9e-20d7-4d67-b79c-da879ace47ac",
     "showTitle": false,
     "tableResultSettingsMap": {},
     "title": ""
    },
    "vscode": {
     "languageId": "plaintext"
    }
   },
   "outputs": [],
   "source": [
    "# Convert Spark DataFrame -> Pandas\n",
    "df_encoded =df_encoded.fillna(0)\n",
    "pdf = df_encoded.toPandas()"
   ]
  },
  {
   "cell_type": "code",
   "execution_count": 0,
   "metadata": {
    "application/vnd.databricks.v1+cell": {
     "cellMetadata": {
      "byteLimit": 2048000,
      "rowLimit": 10000
     },
     "inputWidgets": {},
     "nuid": "a92ca36d-bfae-4340-83f0-e2f8c8f0b405",
     "showTitle": false,
     "tableResultSettingsMap": {},
     "title": ""
    }
   },
   "outputs": [],
   "source": [
    "\n",
    "# Define features and target\n",
    "X = pdf.drop(\"churn\", axis=1)\n",
    "y = pdf[\"churn\"]\n",
    "\n",
    "# Train-test split\n",
    "X_train, X_test, y_train, y_test = train_test_split(X, y, test_size=0.2, random_state=42)\n",
    "\n",
    "\n",
    "# Train Logistic Regression\n",
    "regr = LogisticRegression(max_iter=2500)  # max_iter is often needed for convergence\n",
    "\n",
    "regr.fit(X_train, y_train)\n",
    "\n",
    "# Predictions\n",
    "y_pred = regr.predict(X_test)\n"
   ]
  },
  {
   "cell_type": "code",
   "execution_count": 0,
   "metadata": {
    "application/vnd.databricks.v1+cell": {
     "cellMetadata": {
      "byteLimit": 2048000,
      "rowLimit": 10000
     },
     "inputWidgets": {},
     "nuid": "341de839-7398-49b6-a44e-5dda2d14b051",
     "showTitle": false,
     "tableResultSettingsMap": {},
     "title": ""
    },
    "vscode": {
     "languageId": "plaintext"
    }
   },
   "outputs": [],
   "source": [
    "feat_importances = pd.Series(regr.coef_[0],index=X.columns)\n",
    "plt.figure(figsize=(10, 12))  # (width, height) in inches\n",
    "feat_importances.nlargest(40).plot(kind='barh')\n",
    "plt.show()"
   ]
  },
  {
   "cell_type": "code",
   "execution_count": 0,
   "metadata": {
    "application/vnd.databricks.v1+cell": {
     "cellMetadata": {
      "byteLimit": 2048000,
      "rowLimit": 10000
     },
     "inputWidgets": {},
     "nuid": "94950531-b51b-4ee9-b2db-a1dff92758d1",
     "showTitle": false,
     "tableResultSettingsMap": {},
     "title": ""
    },
    "vscode": {
     "languageId": "plaintext"
    }
   },
   "outputs": [],
   "source": [
    "tn,fp,fn,tp = confusion_matrix(y_test,y_pred).ravel()\n",
    "print(f\"TN: {tn}, FP: {fp} \\nFN: {fn}, TP: {tp}\")"
   ]
  },
  {
   "cell_type": "code",
   "execution_count": 0,
   "metadata": {
    "application/vnd.databricks.v1+cell": {
     "cellMetadata": {
      "byteLimit": 2048000,
      "rowLimit": 10000
     },
     "inputWidgets": {},
     "nuid": "1ea417d2-9584-436c-aa08-1a68be900b1f",
     "showTitle": false,
     "tableResultSettingsMap": {},
     "title": ""
    },
    "vscode": {
     "languageId": "plaintext"
    }
   },
   "outputs": [],
   "source": [
    "accuracy = accuracy_score(y_test, y_pred)\n",
    "print(f\"Accuracy: {accuracy}\")\n",
    "\n",
    "f1 = f1_score(y_test,y_pred)\n",
    "print(f\"F1 Score: {f1}\")\n",
    "\n",
    "print(classification_report(y_test,y_pred))"
   ]
  }
 ],
 "metadata": {
  "application/vnd.databricks.v1+notebook": {
   "computePreferences": {
    "hardware": {
     "accelerator": null,
     "gpuPoolId": null,
     "memory": "HIGH"
    }
   },
   "dashboards": [],
   "environmentMetadata": {
    "base_environment": "",
    "dependencies": [
     "torch",
     "missingno",
     "xgboost",
     "catboost"
    ],
    "environment_version": "4"
   },
   "inputWidgetPreferences": null,
   "language": "python",
   "notebookMetadata": {
    "pythonIndentUnit": 4
   },
   "notebookName": "nb_silver",
   "widgets": {}
  },
  "language_info": {
   "name": "python"
  }
 },
 "nbformat": 4,
 "nbformat_minor": 0
}
